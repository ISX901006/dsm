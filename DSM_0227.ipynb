{
 "cells": [
  {
   "cell_type": "markdown",
   "metadata": {},
   "source": [
    "## DSM_0227\n",
    "### 主題: 資料科學的統計基礎與進階概念\n",
    "- 專案目標: 希望可以讓大家在實作資料科學專案時，熟悉*描述性統計、推論性統計、機率分佈與進階概念*，可以有更好的理論基礎，並且可以更有信心的進行資料分析與模型建立。\n",
    "\n",
    "- Host: Isaac\n",
    "- Time: 2025/02/27\n",
    "- 參考書目: \n",
    "    - 【資料科學的統計實務：探索資料本質、扎實解讀數據，才是機器學習成功建模的第一步】江崎貴裕 著\n",
    "    - 【機器學習的統計基礎：深度學習背後的核心技術】　黃志勝 著"
   ]
  },
  {
   "cell_type": "markdown",
   "metadata": {},
   "source": [
    "# 🟢 1. 敘述性統計 (Descriptive Statistics)"
   ]
  },
  {
   "cell_type": "markdown",
   "metadata": {},
   "source": [
    "## 定量變數 & 定性變數\n",
    "依照變數的性質，我們可以將變數分為兩種類型：定量變數 (Quantitative Variables) 與定性變數 (Qualitative Variables)。\n",
    "定量變數: 又稱為連續變數，是指可以用數字來量化的變數，例如：身高、體重、溫度等。\n",
    "定性變數: 又稱為類別變數，是指無法用數字來量化的變數，例如：性別、國家、顏色等。\n",
    "### 什麼是變數 (Variable)？\n",
    "變數是指在分析或研究中所要觀察的對象或事物，例如：身高、體重、性別、國家等。"
   ]
  },
  {
   "cell_type": "markdown",
   "metadata": {},
   "source": []
  },
  {
   "cell_type": "code",
   "execution_count": null,
   "metadata": {
    "vscode": {
     "languageId": "plaintext"
    }
   },
   "outputs": [],
   "source": []
  },
  {
   "cell_type": "markdown",
   "metadata": {},
   "source": [
    "# 🟢  2. 推論性統計 (Inferential Statistics)"
   ]
  },
  {
   "cell_type": "markdown",
   "metadata": {},
   "source": [
    "# 🟢  3. 探究變數之間的關係"
   ]
  },
  {
   "cell_type": "markdown",
   "metadata": {},
   "source": [
    "# 🟢  4. 探索式資料分析(Explotory Data Analysis)"
   ]
  }
 ],
 "metadata": {
  "language_info": {
   "name": "python"
  }
 },
 "nbformat": 4,
 "nbformat_minor": 2
}
