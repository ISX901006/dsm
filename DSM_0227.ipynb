{
 "cells": [
  {
   "cell_type": "markdown",
   "metadata": {},
   "source": [
    "## DSM_0227\n",
    "### 主題: 資料科學的統計基礎與進階概念\n",
    "### 課程目標: 希望可以讓大家在實作資料科學專案時，可以有更好的理論基礎，並且可以更有信心的進行資料分析與模型建立。\n",
    "### Host: 施尚丞"
   ]
  },
  {
   "cell_type": "markdown",
   "metadata": {},
   "source": []
  }
 ],
 "metadata": {
  "language_info": {
   "name": "python"
  }
 },
 "nbformat": 4,
 "nbformat_minor": 2
}
